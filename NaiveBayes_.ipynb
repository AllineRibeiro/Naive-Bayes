{
 "cells": [
  {
   "cell_type": "markdown",
   "metadata": {},
   "source": [
    "# Naive Bayes <img width=\"100px\" height=\"100px\" src=\"https://pt.seaicons.com/wp-content/uploads/2015/07/Other-python-icon.png\"> \n",
    "\n",
    "\n",
    "### **História** \n",
    "\n",
    "\n",
    "O algoritmo **Naive Bayes** é um classificador probabilístico baseado no **Teorema de Bayes** que foi criado por Thomas Bayes, caso queria saber mais sobre o teorema acesse o site [Teorema de Bayes](https://machinelearningmastery.com/bayes-theorem-for-machine-learning/). É um dos algoritmos de Classificação mais simples e eficazes que ajuda na construção de modelos rápidos de aprendizado de máquina que podem fazer previsões. O algoritmo se tornou popular na área de Aprendizado de Máquina (Machine Learning) para categorizar textos baseado na frequência das palavras usadas, e assim pode ser usado para identificar se determinado e-mail é um SPAM ou sobre qual assunto se refere determinado texto, por exemplo.\n",
    "\n",
    "A principal característica do algoritmo é que ele desconsidera completamente a correlação entre as variáveis. Ou seja, se determinada fruta é considerada uma “Kiwi” se ela for “Marrom”, “Oval” e possui “aproximadamente 5cm de diâmetro”, o algoritmo não vai levar em consideração a correlação entre esses fatores, tratando cada um de forma independente.\n",
    "\n",
    "### **Tipos de modelo Naive Bayes:**\n",
    "\n",
    "Neste modulo iremos utlizar o Naive Bayes Multinominal, mas é importante saber que existem três tipos de modelo Naive Bayes, que são:\n",
    "\n",
    "**Gaussiano**: O modelo gaussiano assume que os recursos seguem uma distribuição normal. Isso significa que, se os preditores assumem valores contínuos em vez de discretos, o modelo assume que esses valores são amostrados da distribuição gaussiana.\n",
    "\n",
    "**Multinomial**: É usado principalmente para problemas de classificação de documentos, significa que um documento específico pertence a qual categoria, como Esportes, Política, educação, etc.\n",
    "O classificador usa a frequência de palavras para os preditores.\n",
    "\n",
    "**Bernoulli**: O classificador Bernoulli funciona de maneira semelhante ao classificador Multinomial, mas as variáveis ​​preditoras são as variáveis ​​booleanas independentes. Como se uma palavra específica estivesse presente ou não em um documento. Este modelo também é famoso pelas tarefas de classificação de documentos.\n",
    "\n",
    "### **Algoritmo**\n",
    "\n",
    "Naive Bayes é um algoritmo que usa dados históricos para visualizar uma classificação de um novo dado ou seja, ele calcula a probabilidade de um evento ocorrer dado que outro evento já ocorreu.\n",
    "\n",
    "Os algoritmos de Machine Learning são implementados usando Python , porque essa linguagem já possui uma biblioteca com vários algoritmos implementados.\n",
    "\n",
    "Vamos aprender a usar o Naive Bayes em um código Python, sem entrar nos detalhes matemáticos do algoritmo.\n",
    "\n",
    "Para entender melhor o exemplo para identificar se o email é Spam ou Not Spam, observe a figura a abaixo.\n",
    "\n",
    "<img src=\"http://www.matera.com/br/wp-content/uploads/2017/11/intro_machine_learning.jpg\"> \n",
    "\n",
    "##### **Fonte** :http://www.matera.com/br/wp-content/uploads/2017/11/intro_machine_learning.jpg\n",
    "    \n",
    "Esta tabela é apenas um exemplo do nosso conjunto de dados, que possui milhares de infomações. Para entender melhor iremos dizer que cada linha é um conjunto de dados, e vamos informar que o SPAM (codificado como saída 1) e NOT SPAM (codificado como saída 0)e o SIM (codificado como saída 1) e o NÃO (codificado como saída 0), pois o computador não vai entender a sequência de caracter. Agora podemos prever alguns resultados utilizando o nosso conjunto de dados.\n",
    "\n"
   ]
  },
  {
   "cell_type": "code",
   "execution_count": 4,
   "metadata": {},
   "outputs": [
    {
     "name": "stdout",
     "output_type": "stream",
     "text": [
      "[  0.      0.64    0.64    0.      0.32    0.      0.      0.      0.\n",
      "   0.      0.      0.64    0.      0.      0.      0.32    0.      1.29\n",
      "   1.93    0.      0.96    0.      0.      0.      0.      0.      0.\n",
      "   0.      0.      0.      0.      0.      0.      0.      0.      0.\n",
      "   0.      0.      0.      0.      0.      0.      0.      0.      0.\n",
      "   0.      0.      0.      0.      0.      0.      0.778   0.      0.\n",
      "   3.756  61.    278.      1.   ]\n"
     ]
    }
   ],
   "source": [
    "# importando a biblioteca Numpy \"Matemática\"\n",
    "import numpy as np\n",
    "\n",
    "# é necessário importar métricas de avalição da performance do algoritmo\n",
    "# a métrica accuracy_score calcula o percentual absoluto de acertos que o algoritmo \n",
    "from sklearn.metrics import accuracy_score\n",
    "\n",
    "import urllib\n",
    "# importamos para ultizar as funçoes para extrair informações de algum conteúdo do site\n",
    "\n",
    "from sklearn.naive_bayes import MultinomialNB\n",
    "# importamos essa bibliteca para ultilizar o Naive Bayes Multinomial\n",
    "\n",
    "from sklearn.model_selection import train_test_split\n",
    "# esta biblioteca serve para dividir a base de dados em treinamento e teste\n",
    "\n",
    "url = \"http://archive.ics.uci.edu/ml/machine-learning-databases/spambase/spambase.data\"\n",
    "# importamos o conjunto de dados \n",
    "\n",
    "url_data = urllib.request.urlopen(url)\n",
    "# aqui iremos abrir a URL\n",
    "\n",
    "dataSet = np.loadtxt(url_data,delimiter=',')\n",
    "# iremos carregar os dados do arquivo de texto de forma simples e rapida\n",
    "# como parametros temos o nome da variavel e colocamos um delimitador \",\" que serve para \n",
    "# separar as colunas \n",
    "\n",
    "print (dataSet[0])\n",
    "# esta linha não é obrigatoria, mas serve para mostrar como esta o nosso conjunto de dados \n",
    "\n"
   ]
  },
  {
   "cell_type": "markdown",
   "metadata": {},
   "source": [
    "Agora precisamos isolar a previsão das variáveis que definem a contagem de palavras que são padronizadas na mesma escala. Vamos analizar penas 48 caracteristicas que descrevem a frequencia de palavras, o que nos permite escolher ultilizar ou não o pré processsamento. Ultilizando os nossos recursos preditivos iremos definir o **X**, nela irá ser armazendo o conjunto de dados que possuem colunas com o valor de indice 0 a 48. E o **Y** será a nossa variavel destino é aqui que rotulamos registro no conjunto de dados como SPAM(codificado como saída 1) ou NOT SPAM (codificado como saída 0). Para executa-los precisaremos dividir os dados em conjunto de teste e treino."
   ]
  },
  {
   "cell_type": "code",
   "execution_count": 1,
   "metadata": {},
   "outputs": [
    {
     "ename": "NameError",
     "evalue": "name 'dataSet' is not defined",
     "output_type": "error",
     "traceback": [
      "\u001b[1;31m---------------------------------------------------------------------------\u001b[0m",
      "\u001b[1;31mNameError\u001b[0m                                 Traceback (most recent call last)",
      "\u001b[1;32m<ipython-input-1-bc700f3d05e6>\u001b[0m in \u001b[0;36m<module>\u001b[1;34m\u001b[0m\n\u001b[1;32m----> 1\u001b[1;33m \u001b[0mX\u001b[0m \u001b[1;33m=\u001b[0m \u001b[0mdataSet\u001b[0m\u001b[1;33m[\u001b[0m\u001b[1;33m:\u001b[0m\u001b[1;33m,\u001b[0m \u001b[1;36m0\u001b[0m\u001b[1;33m:\u001b[0m\u001b[1;36m48\u001b[0m\u001b[1;33m]\u001b[0m\u001b[1;33m\u001b[0m\u001b[1;33m\u001b[0m\u001b[0m\n\u001b[0m\u001b[0;32m      2\u001b[0m \u001b[0mY\u001b[0m \u001b[1;33m=\u001b[0m \u001b[0mdataSet\u001b[0m\u001b[1;33m[\u001b[0m\u001b[1;33m:\u001b[0m\u001b[1;33m,\u001b[0m \u001b[1;33m-\u001b[0m\u001b[1;36m1\u001b[0m\u001b[1;33m]\u001b[0m\u001b[1;33m\u001b[0m\u001b[1;33m\u001b[0m\u001b[0m\n\u001b[0;32m      3\u001b[0m \u001b[1;33m\u001b[0m\u001b[0m\n\u001b[0;32m      4\u001b[0m \u001b[0mX_train\u001b[0m\u001b[1;33m,\u001b[0m \u001b[0mX_test\u001b[0m\u001b[1;33m,\u001b[0m \u001b[0mY_train\u001b[0m\u001b[1;33m,\u001b[0m \u001b[0mY_test\u001b[0m \u001b[1;33m=\u001b[0m \u001b[0mtrain_test_split\u001b[0m\u001b[1;33m(\u001b[0m\u001b[0mX\u001b[0m\u001b[1;33m,\u001b[0m\u001b[0mY\u001b[0m\u001b[1;33m,\u001b[0m\u001b[0mtest_size\u001b[0m \u001b[1;33m=\u001b[0m \u001b[1;36m0.33\u001b[0m\u001b[1;33m,\u001b[0m \u001b[0mrandom_state\u001b[0m \u001b[1;33m=\u001b[0m \u001b[1;36m17\u001b[0m\u001b[1;33m)\u001b[0m\u001b[1;33m\u001b[0m\u001b[1;33m\u001b[0m\u001b[0m\n\u001b[0;32m      5\u001b[0m \u001b[1;31m# test_size é o tamanho do teste, por exemplo se temos 100 registros, quer dizer que teremos\u001b[0m\u001b[1;33m\u001b[0m\u001b[1;33m\u001b[0m\u001b[1;33m\u001b[0m\u001b[0m\n",
      "\u001b[1;31mNameError\u001b[0m: name 'dataSet' is not defined"
     ]
    }
   ],
   "source": [
    "X = dataSet[:, 0:48]\n",
    "Y = dataSet[:, -1]\n",
    "\n",
    "X_train, X_test, Y_train, Y_test = train_test_split(X,Y,test_size = 0.33, random_state = 17)\n",
    "# test_size é o tamanho do teste, por exemplo se temos 100 registros, quer dizer que teremos\n",
    "# 33 para teste e 67 para treinamento. O padrão ultilizado é 0.30 para teste. E random_state \n",
    "# quer dizer que a base será sempre dividida com os mesmo registros. Se alterarmos o random_state \n",
    "# vamos gerar novas partições com novos registros. Pode utilizar qualquer número inteiro para \n",
    "# desginar o random_state"
   ]
  },
  {
   "cell_type": "markdown",
   "metadata": {},
   "source": [
    "Agora podemos utilizar o tipo Multiomial para calcular a precisão."
   ]
  },
  {
   "cell_type": "code",
   "execution_count": 6,
   "metadata": {},
   "outputs": [
    {
     "name": "stdout",
     "output_type": "stream",
     "text": [
      "0.8736010533245556\n"
     ]
    }
   ],
   "source": [
    "multiNB = MultinomialNB()\n",
    "\n",
    "multiNB.fit(X_train, Y_train)\n",
    "# ajusta e treina o classificador \n",
    "\n",
    "Y_pred = multiNB.predict(X_test)\n",
    "# prediz a acuracia da classificação do vetor de treino\n",
    "\n",
    "print(accuracy_score(Y_test, Y_pred))\n",
    "# Calcula a acuracia do vetor de teste "
   ]
  },
  {
   "cell_type": "markdown",
   "metadata": {},
   "source": [
    "### **Referência Bibliográfica**\n",
    "<ul>\n",
    "    <li> httpS://www.matera.com/blog/post/machine-learning-naive-bayes\n",
    "    <li> https://imasters.com.br/desenvolvimento/classificador-naive-bayes-em-50-linhas\n",
    "    <li> https://www.knowledgehut.com/blog/data-science/naive-bayes-in-machine-learning\n",
    "    <li> www.lbd.dcc.ufmg.br›colecoes›erbd\n",
    "    <li> https://minerandodados.com.br/naive-bayes-machine-learning/\n",
    "<\\ul>"
   ]
  }
 ],
 "metadata": {
  "kernelspec": {
   "display_name": "Python 3",
   "language": "python",
   "name": "python3"
  },
  "language_info": {
   "codemirror_mode": {
    "name": "ipython",
    "version": 3
   },
   "file_extension": ".py",
   "mimetype": "text/x-python",
   "name": "python",
   "nbconvert_exporter": "python",
   "pygments_lexer": "ipython3",
   "version": "3.7.3"
  }
 },
 "nbformat": 4,
 "nbformat_minor": 2
}
